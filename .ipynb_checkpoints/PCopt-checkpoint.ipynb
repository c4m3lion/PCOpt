{
 "cells": [
  {
   "cell_type": "code",
   "execution_count": 64,
   "id": "ad6c8cf9",
   "metadata": {},
   "outputs": [
    {
     "name": "stdout",
     "output_type": "stream",
     "text": [
      "Error: C:/Users/c4m3lion/AppData/Local/Temp\\289cc223-5d2d-4806-b0c5-91f4d533495c.tmp : The process cannot access the file because it is being used by another process\n",
      "PermissionError do change\n",
      "Error: C:/Users/c4m3lion/AppData/Local/Temp\\289cc223-5d2d-4806-b0c5-91f4d533495c.tmp : The directory name is invalid\n",
      "Error: C:/Users/c4m3lion/AppData/Local/Temp\\lghub_agent_instance_lock : The process cannot access the file because it is being used by another process\n",
      "PermissionError do change\n",
      "Error: C:/Users/c4m3lion/AppData/Local/Temp\\lghub_agent_instance_lock : The directory name is invalid\n",
      "Error: C:/Users/c4m3lion/AppData/Local/Temp\\~DF06E3F130A2FB6793.TMP : The process cannot access the file because it is being used by another process\n",
      "PermissionError do change\n",
      "Error: C:/Users/c4m3lion/AppData/Local/Temp\\~DF06E3F130A2FB6793.TMP : The directory name is invalid\n"
     ]
    }
   ],
   "source": [
    "import tkinter as tk\n",
    "import os;\n",
    "import glob\n",
    "import stat\n",
    "import sys\n",
    "import shutil\n",
    "\n",
    "\n",
    "root= tk.Tk()\n",
    "root.geometry('350x200')\n",
    "root.title(\"Clean PC\")\n",
    "files = glob.glob('C:/Users/c4m3lion/AppData/Local/Temp/*')\n",
    "def clean ():  \n",
    "    os.system(\"taskkill /f /im explorer.exe\");\n",
    "    for f in files:\n",
    "        try:\n",
    "            os.remove(f)\n",
    "        except OSError as e:\n",
    "            print(\"Error: %s : %s\" % (f, e.strerror))\n",
    "            print('PermissionError do change')\n",
    "            os.chmod(f, stat.S_IWRITE)\n",
    "            try:\n",
    "                shutil.rmtree(f)\n",
    "            except OSError as e:\n",
    "                print(\"Error: %s : %s\" % (f, e.strerror))\n",
    "    \n",
    "    label1 = tk.Label(root, text= 'AYE PC cleaned succesfully', fg='green', font=('helvetica', 12, 'bold'))\n",
    "    label1.after(5000, label1.destroy)\n",
    "    label1.pack()\n",
    "def openExplorer():\n",
    "    os.system('start explorer.exe');\n",
    "    \n",
    "    label1 = tk.Label(root, text= 'Explorere restored', fg='green', font=('helvetica', 12, 'bold'))\n",
    "    label1.after(5000, label1.destroy)\n",
    "    label1.pack()\n",
    "\n",
    "tk.Button(root, text=\"Clean\", command=clean).pack()\n",
    "tk.Button(root, text=\"Open Explorer\", command=openExplorer).pack()\n",
    "\n",
    "root.mainloop()"
   ]
  },
  {
   "cell_type": "code",
   "execution_count": 60,
   "id": "f89742ec",
   "metadata": {},
   "outputs": [
    {
     "name": "stdout",
     "output_type": "stream",
     "text": [
      "gg\n"
     ]
    }
   ],
   "source": []
  },
  {
   "cell_type": "code",
   "execution_count": null,
   "id": "7d20df1f",
   "metadata": {},
   "outputs": [],
   "source": []
  }
 ],
 "metadata": {
  "kernelspec": {
   "display_name": "Python 3 (ipykernel)",
   "language": "python",
   "name": "python3"
  },
  "language_info": {
   "codemirror_mode": {
    "name": "ipython",
    "version": 3
   },
   "file_extension": ".py",
   "mimetype": "text/x-python",
   "name": "python",
   "nbconvert_exporter": "python",
   "pygments_lexer": "ipython3",
   "version": "3.9.6"
  }
 },
 "nbformat": 4,
 "nbformat_minor": 5
}
