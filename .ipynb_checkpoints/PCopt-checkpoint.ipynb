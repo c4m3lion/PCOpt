{
 "cells": [
  {
   "cell_type": "code",
   "execution_count": 11,
   "id": "ad6c8cf9",
   "metadata": {},
   "outputs": [],
   "source": [
    "import tkinter as tk\n",
    "import os;\n",
    "import glob\n",
    "import stat\n",
    "import sys\n",
    "import shutil\n",
    "\n",
    "\n",
    "root= tk.Tk()\n",
    "root.geometry('350x200');\n",
    "root.configure(background='black');\n",
    "root.title(\"Clean PC\")\n",
    "\n",
    "def clean ():  \n",
    "    files = glob.glob('C:/Users/c4m3lion/AppData/Local/Temp/*')\n",
    "    os.system(\"taskkill /f /im explorer.exe\");#kill exploreer exe it save memory\n",
    "    for f in files:\n",
    "        try:\n",
    "            os.remove(f) #try to remove file\n",
    "        except OSError as e:\n",
    "            print(\"Error: %s : %s\" % (f, e.strerror))\n",
    "            print('PermissionError do change')\n",
    "            os.chmod(f, stat.S_IWRITE) # Ihave no idea\n",
    "            try:\n",
    "                shutil.rmtree(f) #try to remove folder\n",
    "            except OSError as e:\n",
    "                print(\"Error: %s : %s\" % (f, e.strerror))\n",
    "    \n",
    "    label1 = tk.Label(root, text= 'AYE PC cleaned succesfully', fg='green', font=('helvetica', 12, 'bold'))\n",
    "    label1.after(5000, label1.destroy)\n",
    "    label1.pack()\n",
    "\n",
    "#open explorer.exe\n",
    "def openExplorer():\n",
    "    os.system('start explorer.exe');\n",
    "    \n",
    "    label1 = tk.Label(root, text= 'Explorere restored', fg='green', font=('helvetica', 12, 'bold'))\n",
    "    label1.after(5000, label1.destroy)\n",
    "    label1.pack()    \n",
    "\n",
    "#delete edge\n",
    "def deleteEdge():\n",
    "    url = \"C:/Program Files (x86)/Microsoft/Edge/Application/\";\n",
    "    files = glob.glob(url+'*');\n",
    "    for f in files:\n",
    "        if(f[len(f)-1] >='0' and f[len(f)-1] <='9'):\n",
    "            f+=\"\\Installer\";\n",
    "            print(\"edge found on this directory: \" + f);\n",
    "            os.chdir(f);\n",
    "            os.system('start cmd /k setup --uninstall --force-uninstall --system-level')\n",
    "            \n",
    "            \n",
    "    \n",
    "tk.Button(root, text=\"Clean\", command=clean).pack()\n",
    "tk.Button(root, text=\"Open Explorer\", command=openExplorer).pack()\n",
    "tk.Button(root, text=\"Delete Edge\", command=deleteEdge).pack()\n",
    "\n",
    "root.mainloop()"
   ]
  },
  {
   "cell_type": "code",
   "execution_count": 60,
   "id": "f89742ec",
   "metadata": {},
   "outputs": [
    {
     "name": "stdout",
     "output_type": "stream",
     "text": [
      "gg\n"
     ]
    }
   ],
   "source": []
  },
  {
   "cell_type": "code",
   "execution_count": null,
   "id": "7d20df1f",
   "metadata": {},
   "outputs": [],
   "source": []
  }
 ],
 "metadata": {
  "kernelspec": {
   "display_name": "Python 3 (ipykernel)",
   "language": "python",
   "name": "python3"
  },
  "language_info": {
   "codemirror_mode": {
    "name": "ipython",
    "version": 3
   },
   "file_extension": ".py",
   "mimetype": "text/x-python",
   "name": "python",
   "nbconvert_exporter": "python",
   "pygments_lexer": "ipython3",
   "version": "3.9.6"
  }
 },
 "nbformat": 4,
 "nbformat_minor": 5
}
